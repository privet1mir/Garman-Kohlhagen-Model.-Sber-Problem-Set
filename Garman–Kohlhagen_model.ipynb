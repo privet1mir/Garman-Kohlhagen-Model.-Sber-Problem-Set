{
  "nbformat": 4,
  "nbformat_minor": 0,
  "metadata": {
    "colab": {
      "provenance": []
    },
    "kernelspec": {
      "name": "python3",
      "display_name": "Python 3"
    },
    "language_info": {
      "name": "python"
    }
  },
  "cells": [
    {
      "cell_type": "code",
      "source": [
        "import numpy as np\n",
        "from scipy.stats import norm\n",
        "import matplotlib.pyplot as plt"
      ],
      "metadata": {
        "id": "8f2N4hB7MmHH"
      },
      "execution_count": 126,
      "outputs": []
    },
    {
      "cell_type": "code",
      "execution_count": 135,
      "metadata": {
        "id": "qg5ADxwXKc_5"
      },
      "outputs": [],
      "source": [
        "#initial conditions of the model\n",
        "\n",
        "S = 1.06   #spot exchange rate\n",
        "K = 1.18   #strike exchange rate\n",
        "rd = 0.031   #domestic interest rate\n",
        "rf = 0.054  #foreign interest rate\n",
        "T = 1   #time to maturity, in years\n",
        "sigma = 0.11   #volatility of the FX rate"
      ]
    },
    {
      "cell_type": "markdown",
      "source": [
        "Call option's price: $c = S e^{-r_f T} N(d_1) - K e^{-r_d T} N(d_2)$, where\n",
        "\n",
        "$d_1 = \\frac{\\ln{(\\frac{S}{K})} + (r_d - r_f + \\frac{\\sigma ^ 2}{2}) T}{\\sigma \\sqrt{T}}$\n",
        "\n",
        "$d_2 = d_1 - \\sigma \\sqrt{T}$"
      ],
      "metadata": {
        "id": "MhEGTA7UQAM_"
      }
    },
    {
      "cell_type": "code",
      "source": [
        "class GK_model():\n",
        "\n",
        "  def __init__(self, S, K, rd, rf, T, sigma):\n",
        "    self.S = S\n",
        "    self.K = K\n",
        "    self.rd = rd\n",
        "    self.rf = rf\n",
        "    self.T = T\n",
        "    self.sigma = sigma\n",
        "\n",
        "  def d1(self):\n",
        "    return (np.log(S/K) + (rd - rf + ((sigma)**2)/2) * T) / (sigma * np.sqrt(T))\n",
        "\n",
        "  def d2(self):\n",
        "    return self.d1() - (sigma * np.sqrt(T))\n",
        "\n",
        "  def N1(self):   #commulative normal\n",
        "    return norm.cdf(self.d1())\n",
        "\n",
        "  def N2(self):   #commulative normal\n",
        "    return norm.cdf(self.d2())\n",
        "\n",
        "  def option_price(self):\n",
        "    return (S*np.exp(-rf * T)*self.N1()) - K*np.exp(-rd * T)*self.N2()"
      ],
      "metadata": {
        "id": "t7H1RFABLgT1"
      },
      "execution_count": 136,
      "outputs": []
    },
    {
      "cell_type": "code",
      "source": [
        "g = GK_model(S, K, rd, rf, T, sigma)"
      ],
      "metadata": {
        "id": "J9DGU2PSMGZV"
      },
      "execution_count": 137,
      "outputs": []
    },
    {
      "cell_type": "code",
      "source": [
        "g.option_price()"
      ],
      "metadata": {
        "colab": {
          "base_uri": "https://localhost:8080/"
        },
        "id": "oEWBHP3QNMQO",
        "outputId": "26f1df56-69e6-4130-ea26-aa6a6572340f"
      },
      "execution_count": 138,
      "outputs": [
        {
          "output_type": "execute_result",
          "data": {
            "text/plain": [
              "0.0068271055053920615"
            ]
          },
          "metadata": {},
          "execution_count": 138
        }
      ]
    },
    {
      "cell_type": "code",
      "source": [],
      "metadata": {
        "id": "77LHeYOoNPMF"
      },
      "execution_count": 139,
      "outputs": []
    },
    {
      "cell_type": "code",
      "source": [],
      "metadata": {
        "id": "aT1_z8Lj4SMV"
      },
      "execution_count": null,
      "outputs": []
    }
  ]
}