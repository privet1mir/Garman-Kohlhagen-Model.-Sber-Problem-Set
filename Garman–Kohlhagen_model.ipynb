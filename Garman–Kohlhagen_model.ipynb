{
  "nbformat": 4,
  "nbformat_minor": 0,
  "metadata": {
    "colab": {
      "provenance": []
    },
    "kernelspec": {
      "name": "python3",
      "display_name": "Python 3"
    },
    "language_info": {
      "name": "python"
    }
  },
  "cells": [
    {
      "cell_type": "code",
      "source": [
        "import numpy as np\n",
        "from scipy.stats import norm\n",
        "import matplotlib.pyplot as plt"
      ],
      "metadata": {
        "id": "8f2N4hB7MmHH"
      },
      "execution_count": 298,
      "outputs": []
    },
    {
      "cell_type": "code",
      "execution_count": 299,
      "metadata": {
        "id": "qg5ADxwXKc_5"
      },
      "outputs": [],
      "source": [
        "#initial conditions of the model\n",
        "\n",
        "S = 1.06   #spot exchange rate\n",
        "K = 1.18  #strike exchange rate you can change it for different types of options\n",
        "rd = 0.031   #domestic interest rate\n",
        "rf = 0.054  #foreign interest rate\n",
        "T = 1   #time to maturity, in years\n",
        "sigma = 0.11   #volatility of the FX rate"
      ]
    },
    {
      "cell_type": "markdown",
      "source": [
        "Call option's price: $c = S e^{-r_f T} N(d_1) - K e^{-r_d T} N(d_2)$, where\n",
        "\n",
        "$d_1 = \\frac{\\ln{(\\frac{S}{K})} + (r_d - r_f + \\frac{\\sigma ^ 2}{2}) T}{\\sigma \\sqrt{T}}$\n",
        "\n",
        "$d_2 = d_1 - \\sigma \\sqrt{T}$"
      ],
      "metadata": {
        "id": "MhEGTA7UQAM_"
      }
    },
    {
      "cell_type": "code",
      "source": [
        "class GK_model():\n",
        "\n",
        "  def __init__(self, S, K, rd, rf, T, sigma):\n",
        "    self.S = S\n",
        "    self.K = K\n",
        "    self.rd = rd\n",
        "    self.rf = rf\n",
        "    self.T = T\n",
        "    self.sigma = sigma\n",
        "\n",
        "  def d1(self):\n",
        "    return (np.log(S/K) + (rd - rf + ((sigma)**2)/2) * T) / (sigma * np.sqrt(T))\n",
        "\n",
        "  def d2(self):\n",
        "    return self.d1() - (sigma * np.sqrt(T))\n",
        "\n",
        "  def N1(self):   #commulative normal\n",
        "    return norm.cdf(self.d1())\n",
        "\n",
        "  def N2(self):   #commulative normal\n",
        "    return norm.cdf(self.d2())\n",
        "\n",
        "  def option_price(self):\n",
        "    return (S*np.exp(-rf * T)*self.N1()) - K*np.exp(-rd * T)*self.N2()\n",
        "\n",
        "  def delta(self):\n",
        "    return (np.exp(-rf * T) * self.N1())\n",
        "\n",
        "  def gamma(self):\n",
        "    return (np.exp(-rf * T) * norm.pdf(self.d1())) / (S * sigma * np.sqrt(T))\n",
        "\n",
        "  def theta(self):\n",
        "    return (((np.exp(-rf * T) * S * norm.pdf(self.d1()) * sigma)/(2*np.sqrt(T))) + (rd* np.exp(-rd * T) * K * self.N2()) - (rf* np.exp(-rf * T) * S * self.N1()))/365"
      ],
      "metadata": {
        "id": "t7H1RFABLgT1"
      },
      "execution_count": 300,
      "outputs": []
    },
    {
      "cell_type": "code",
      "source": [
        "model = GK_model(S, K, rd, rf, T, sigma)"
      ],
      "metadata": {
        "id": "J9DGU2PSMGZV"
      },
      "execution_count": 301,
      "outputs": []
    },
    {
      "cell_type": "code",
      "source": [
        "model.option_price()"
      ],
      "metadata": {
        "colab": {
          "base_uri": "https://localhost:8080/"
        },
        "id": "oEWBHP3QNMQO",
        "outputId": "44786ec6-8cd5-47ef-b8cd-53e9503a8637"
      },
      "execution_count": 302,
      "outputs": [
        {
          "output_type": "execute_result",
          "data": {
            "text/plain": [
              "0.0068271055053920615"
            ]
          },
          "metadata": {},
          "execution_count": 302
        }
      ]
    },
    {
      "cell_type": "markdown",
      "source": [
        "$\\Delta = \\frac{\\partial{c_1}}{\\partial{S}} = e^{-r_f T} N(d_1)$"
      ],
      "metadata": {
        "id": "PsVT86PkM6v9"
      }
    },
    {
      "cell_type": "code",
      "source": [
        "model.delta()"
      ],
      "metadata": {
        "colab": {
          "base_uri": "https://localhost:8080/"
        },
        "id": "77LHeYOoNPMF",
        "outputId": "2d63d62c-6d90-4980-844d-dc70c309423c"
      },
      "execution_count": 303,
      "outputs": [
        {
          "output_type": "execute_result",
          "data": {
            "text/plain": [
              "0.12263401331487166"
            ]
          },
          "metadata": {},
          "execution_count": 303
        }
      ]
    },
    {
      "cell_type": "markdown",
      "source": [
        "$\\Gamma_1 = \\frac{\\partial{\\Delta_1}}{\\partial{S}} = e^{-r_f T} \\frac{\\partial{N_1(d_1)}}{\\partial{S}}$"
      ],
      "metadata": {
        "id": "JyuBlk1LKcAZ"
      }
    },
    {
      "cell_type": "code",
      "source": [
        "model.gamma()"
      ],
      "metadata": {
        "colab": {
          "base_uri": "https://localhost:8080/"
        },
        "id": "WEZLF79JKcCg",
        "outputId": "af14b739-22be-4378-b48d-03feaed29ba5"
      },
      "execution_count": 304,
      "outputs": [
        {
          "output_type": "execute_result",
          "data": {
            "text/plain": [
              "1.7137607232493175"
            ]
          },
          "metadata": {},
          "execution_count": 304
        }
      ]
    },
    {
      "cell_type": "markdown",
      "source": [
        "$\\theta = \\frac{\\partial{c}}{\\partial{T}} = -r_f S e^{-r_f T} N(d_1) + S e^{-r_f T} \\frac{\\partial{N(d_1)}}{\\partial{T}} + r_d K e^{-r_d T} N(d_2) - K e^{-r_d T} \\frac{\\partial{N(d_2)}}{\\partial{T}}$"
      ],
      "metadata": {
        "id": "NuSQMzXMTJfT"
      }
    },
    {
      "cell_type": "code",
      "source": [
        "model.theta()"
      ],
      "metadata": {
        "colab": {
          "base_uri": "https://localhost:8080/"
        },
        "id": "xcJuFYgmTJhv",
        "outputId": "0e090203-c269-429d-ffd7-728f83b5759f"
      },
      "execution_count": 305,
      "outputs": [
        {
          "output_type": "execute_result",
          "data": {
            "text/plain": [
              "2.3146057134263075e-05"
            ]
          },
          "metadata": {},
          "execution_count": 305
        }
      ]
    },
    {
      "cell_type": "code",
      "source": [],
      "metadata": {
        "id": "aT1_z8Lj4SMV"
      },
      "execution_count": 305,
      "outputs": []
    },
    {
      "cell_type": "code",
      "source": [],
      "metadata": {
        "id": "-_16aPKc8W-g"
      },
      "execution_count": 282,
      "outputs": []
    },
    {
      "cell_type": "code",
      "source": [],
      "metadata": {
        "id": "xkkHGWiF8eju"
      },
      "execution_count": null,
      "outputs": []
    }
  ]
}